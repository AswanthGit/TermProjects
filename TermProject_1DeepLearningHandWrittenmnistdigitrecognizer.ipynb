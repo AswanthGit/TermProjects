{
 "cells": [
  {
   "cell_type": "code",
   "execution_count": 1,
   "id": "metric-holmes",
   "metadata": {
    "_cell_guid": "b1076dfc-b9ad-4769-8c92-a6c4dae69d19",
    "_uuid": "8f2839f25d086af736a60e9eeb907d3b93b6e0e5",
    "execution": {
     "iopub.execute_input": "2021-04-19T11:19:55.410234Z",
     "iopub.status.busy": "2021-04-19T11:19:55.408754Z",
     "iopub.status.idle": "2021-04-19T11:21:04.354736Z",
     "shell.execute_reply": "2021-04-19T11:21:04.355293Z"
    },
    "papermill": {
     "duration": 68.965285,
     "end_time": "2021-04-19T11:21:04.355601",
     "exception": false,
     "start_time": "2021-04-19T11:19:55.390316",
     "status": "completed"
    },
    "tags": []
   },
   "outputs": [
    {
     "name": "stdout",
     "output_type": "stream",
     "text": [
      "(33600, 784) (8400, 784)\n",
      "(33600,) (8400,)\n"
     ]
    },
    {
     "data": {
      "image/png": "[encoded data removed]",
      "text/plain": [
       "<Figure size 432x288 with 1 Axes>"
      ]
     },
     "metadata": {
      "needs_background": "light"
     },
     "output_type": "display_data"
    },
    {
     "name": "stdout",
     "output_type": "stream",
     "text": [
      "3\n",
      "Model: \"sequential\"\n",
      "_________________________________________________________________\n",
      "Layer (type)                 Output Shape              Param #   \n",
      "=================================================================\n",
      "dense (Dense)                (None, 60)                47100     \n",
      "_________________________________________________________________\n",
      "dense_1 (Dense)              (None, 10)                610       \n",
      "=================================================================\n",
      "Total params: 47,710\n",
      "Trainable params: 47,710\n",
      "Non-trainable params: 0\n",
      "_________________________________________________________________\n"
     ]
    },
    {
     "data": {
      "image/png": "[encoded data removed]",
      "text/plain": [
       "<Figure size 432x288 with 1 Axes>"
      ]
     },
     "metadata": {
      "needs_background": "light"
     },
     "output_type": "display_data"
    }
   ],
   "source": [
    "import numpy as np\n",
    "import pandas as pd\n",
    "import tensorflow as tf\n",
    "import matplotlib.pyplot as plt\n",
    "\n",
    "dataset = pd.read_csv('../input/mnist-digit-recognizer/train.csv')\n",
    "# dataset.head()\n",
    "train_dataset = dataset.sample(frac=0.8,random_state=0)\n",
    "test_dataset = dataset.drop(train_dataset.index)\n",
    "# test_dataset.head()\n",
    "# print(train_dataset.shape, test_dataset.shape)\n",
    "train_features = train_dataset.copy()\n",
    "test_features = test_dataset.copy()\n",
    "train_labels = train_features.pop('label')\n",
    "test_labels = test_features.pop('label')\n",
    "print(train_features.shape, test_features.shape)\n",
    "print(train_labels.shape, test_labels.shape)\n",
    "\n",
    "train_features = np.array(train_features)\n",
    "test_features = np.array(test_features)\n",
    "train_labels = np.array(train_labels)\n",
    "test_labels = np.array(test_labels)\n",
    "\n",
    "plt.imshow(train_features[33599][:].reshape((28,28)),cmap='gray')\n",
    "plt.show()\n",
    "print(train_labels[33599])\n",
    "#print(train_features[33599])\n",
    "\n",
    "train_features = train_features/255\n",
    "test_features = test_features/255\n",
    "\n",
    "#print(train_labels)\n",
    "\n",
    "train_labels = tf.keras.utils.to_categorical(train_labels,dtype='float32')\n",
    "test_labels = tf.keras.utils.to_categorical(test_labels,dtype='float32')\n",
    "\n",
    "#print(train_labels[2][:])\n",
    "\n",
    "model = tf.keras.Sequential()\n",
    "model.add(tf.keras.layers.Input(shape=(train_features.shape[1],)))\n",
    "#model.add(tf.keras.layers.Dense(units=10,activation=\"sigmoid\"))\n",
    "#model.add(tf.keras.layers.Dense(units=10,activation=\"relu\"))\n",
    "#model.add(tf.keras.layers.Dense(units=20,activation=\"relu\"))\n",
    "model.add(tf.keras.layers.Dense(units=60,activation=\"relu\"))\n",
    "#model.add(tf.keras.layers.Dense(units=30,activation=\"relu\"))\n",
    "model.add(tf.keras.layers.Dense(units=10,activation=\"softmax\"))\n",
    "model.summary()\n",
    "\n",
    "model.compile(optimizer=tf.optimizers.Adam(learning_rate=0.01),loss='mean_squared_error')\n",
    "history = model.fit(train_features,train_labels,epochs=300,verbose=0,validation_split=0.1,batch_size=33600)\n",
    "\n",
    "def plot_loss(history):\n",
    "    plt.plot(history.history['loss'], label='loss')\n",
    "    plt.plot(history.history['val_loss'], label='val_loss')\n",
    "    #plt.ylim([0,1.0])\n",
    "    plt.xlabel('Epoch')\n",
    "    plt.ylabel('Error')\n",
    "    plt.legend()\n",
    "    plt.grid(True)\n",
    "fig = plt.figure\n",
    "plot_loss(history)\n"
   ]
  },
  {
   "cell_type": "code",
   "execution_count": 2,
   "id": "pending-weekly",
   "metadata": {
    "execution": {
     "iopub.execute_input": "2021-04-19T11:21:04.371342Z",
     "iopub.status.busy": "2021-04-19T11:21:04.370320Z",
     "iopub.status.idle": "2021-04-19T11:21:04.993636Z",
     "shell.execute_reply": "2021-04-19T11:21:04.992559Z"
    },
    "papermill": {
     "duration": 0.632381,
     "end_time": "2021-04-19T11:21:04.993828",
     "exception": false,
     "start_time": "2021-04-19T11:21:04.361447",
     "status": "completed"
    },
    "tags": []
   },
   "outputs": [
    {
     "name": "stdout",
     "output_type": "stream",
     "text": [
      "9 9\n"
     ]
    },
    {
     "data": {
      "image/png": "[encoded data removed]",
      "text/plain": [
       "<Figure size 432x288 with 1 Axes>"
      ]
     },
     "metadata": {
      "needs_background": "light"
     },
     "output_type": "display_data"
    },
    {
     "name": "stdout",
     "output_type": "stream",
     "text": [
      "95.76190476190476\n"
     ]
    }
   ],
   "source": [
    "pr = model.predict(test_features)\n",
    "num = 107\n",
    "print(np.argmax(pr[num]),np.argmax(test_labels[num]))\n",
    "plt.imshow(test_features[num][:].reshape((28,28)),cmap='gray')\n",
    "plt.show()\n",
    "\n",
    "pr = np.rint(pr)\n",
    "test_labels = np.rint(test_labels)\n",
    "def findacc(p,t):\n",
    "    err = 0\n",
    "    for row in range(t.shape[0]):\n",
    "        for col in range(t.shape[1]):\n",
    "            if p[row][col]!=t[row][col]:\n",
    "                err += 1\n",
    "                break\n",
    "    return (t.shape[0]-err)*100/t.shape[0]\n",
    "print(findacc(pr,test_labels))\n",
    "\n"
   ]
  }
 ],
 "metadata": {
  "kernelspec": {
   "display_name": "Python 3",
   "language": "python",
   "name": "python3"
  },
  "language_info": {
   "codemirror_mode": {
    "name": "ipython",
    "version": 3
   },
   "file_extension": ".py",
   "mimetype": "text/x-python",
   "name": "python",
   "nbconvert_exporter": "python",
   "pygments_lexer": "ipython3",
   "version": "3.7.9"
  },
  "papermill": {
   "default_parameters": {},
   "duration": 78.209044,
   "end_time": "2021-04-19T11:21:06.115726",
   "environment_variables": {},
   "exception": null,
   "input_path": "__notebook__.ipynb",
   "output_path": "__notebook__.ipynb",
   "parameters": {},
   "start_time": "2021-04-19T11:19:47.906682",
   "version": "2.3.2"
  }
 },
 "nbformat": 4,
 "nbformat_minor": 5
}
